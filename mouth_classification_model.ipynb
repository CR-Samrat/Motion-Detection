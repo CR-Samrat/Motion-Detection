{
 "cells": [
  {
   "cell_type": "code",
   "execution_count": 36,
   "metadata": {},
   "outputs": [],
   "source": [
    "import cv2 as cv\n",
    "from PIL import Image\n",
    "import os\n",
    "from tqdm import tqdm\n",
    "import numpy as np\n",
    "import random\n",
    "\n",
    "from sklearn.model_selection import train_test_split\n",
    "from keras.utils import to_categorical\n",
    "\n",
    "import tensorflow as tf\n",
    "from tensorflow.keras.layers import Conv2D, MaxPool2D, BatchNormalization, Dropout,Input,Dense,Flatten\n",
    "import tensorflow.keras as k\n",
    "from tensorflow.keras.optimizers import Adam\n",
    "\n",
    "import pickle"
   ]
  },
  {
   "cell_type": "markdown",
   "metadata": {},
   "source": [
    "#### Parameters"
   ]
  },
  {
   "cell_type": "code",
   "execution_count": 11,
   "metadata": {},
   "outputs": [],
   "source": [
    "dataset = []\n",
    "labels = []\n",
    "valid_type = ['png','jpg']\n",
    "height = 70\n",
    "width = 70"
   ]
  },
  {
   "cell_type": "markdown",
   "metadata": {},
   "source": [
    "#### Creating the dataset"
   ]
  },
  {
   "cell_type": "code",
   "execution_count": 13,
   "metadata": {},
   "outputs": [
    {
     "name": "stderr",
     "output_type": "stream",
     "text": [
      "100%|██████████| 3254/3254 [00:10<00:00, 299.51it/s] \n"
     ]
    }
   ],
   "source": [
    "mouth_open_dir = os.listdir('./Dataset/Yawn/')\n",
    "\n",
    "for img_id, each_image in enumerate(tqdm(mouth_open_dir)):\n",
    "    if each_image.split('.')[1] in valid_type :\n",
    "        image = cv.imread('./Dataset/Yawn/'+each_image)\n",
    "        image = Image.fromarray(image,\"RGB\")\n",
    "        image = image.resize((height, width))\n",
    "        image = np.array(image)\n",
    "\n",
    "        dataset.append(image)\n",
    "        labels.append(1)"
   ]
  },
  {
   "cell_type": "code",
   "execution_count": 14,
   "metadata": {},
   "outputs": [
    {
     "name": "stderr",
     "output_type": "stream",
     "text": [
      "100%|██████████| 3316/3316 [00:33<00:00, 98.45it/s] \n"
     ]
    }
   ],
   "source": [
    "mouth_close_dir = os.listdir('./Dataset/no_yawn/')\n",
    "\n",
    "for img_id, each_image in enumerate(tqdm(mouth_close_dir)):\n",
    "    if each_image.split('.')[1] in valid_type :\n",
    "        image = cv.imread('./Dataset/no_yawn/'+each_image)\n",
    "        image = Image.fromarray(image,\"RGB\")\n",
    "        image = image.resize((height, width))\n",
    "        image = np.array(image)\n",
    "\n",
    "        dataset.append(image)\n",
    "        labels.append(0)"
   ]
  },
  {
   "cell_type": "code",
   "execution_count": 16,
   "metadata": {},
   "outputs": [
    {
     "name": "stdout",
     "output_type": "stream",
     "text": [
      "[1, 1, 0, 1, 1, 1, 1, 1, 0, 1, 1, 0, 0, 0, 1, 0, 0, 1, 0, 1]\n"
     ]
    }
   ],
   "source": [
    "random_sequence = [i for i in range(len(labels))]\n",
    "random.shuffle(random_sequence)\n",
    "\n",
    "labels = [labels[i] for i in random_sequence]\n",
    "dataset = [dataset[i] for i in random_sequence]\n",
    "\n",
    "print(labels[:20])"
   ]
  },
  {
   "cell_type": "markdown",
   "metadata": {},
   "source": [
    "#### Dataset Split"
   ]
  },
  {
   "cell_type": "code",
   "execution_count": 19,
   "metadata": {},
   "outputs": [],
   "source": [
    "x_train, x_test, y_train,y_test = train_test_split(dataset, to_categorical(np.array(labels)), test_size=0.2, random_state=42)\n",
    "x_test, x_val, y_test,y_val = train_test_split(x_test, y_test, test_size=0.5, random_state=42)"
   ]
  },
  {
   "cell_type": "code",
   "execution_count": 22,
   "metadata": {},
   "outputs": [
    {
     "name": "stdout",
     "output_type": "stream",
     "text": [
      "5256 (5256, 2)\n",
      "657 (657, 2)\n",
      "657 (657, 2)\n"
     ]
    }
   ],
   "source": [
    "print(len(x_train), y_train.shape)\n",
    "print(len(x_test), y_test.shape)\n",
    "print(len(x_val), y_val.shape)"
   ]
  },
  {
   "cell_type": "markdown",
   "metadata": {},
   "source": [
    "#### Model Creation"
   ]
  },
  {
   "cell_type": "code",
   "execution_count": 27,
   "metadata": {},
   "outputs": [
    {
     "name": "stdout",
     "output_type": "stream",
     "text": [
      "WARNING:tensorflow:From C:\\Users\\Subhadeep_Sarkar\\AppData\\Roaming\\Python\\Python311\\site-packages\\keras\\src\\backend.py:1398: The name tf.executing_eagerly_outside_functions is deprecated. Please use tf.compat.v1.executing_eagerly_outside_functions instead.\n",
      "\n",
      "WARNING:tensorflow:From C:\\Users\\Subhadeep_Sarkar\\AppData\\Roaming\\Python\\Python311\\site-packages\\keras\\src\\layers\\pooling\\max_pooling2d.py:161: The name tf.nn.max_pool is deprecated. Please use tf.nn.max_pool2d instead.\n",
      "\n"
     ]
    }
   ],
   "source": [
    "input_shape = (height, width, 3)\n",
    "\n",
    "# input layer\n",
    "inp = Input(shape=input_shape)\n",
    "\n",
    "conv1 = Conv2D(32, kernel_size=(3,3), activation='relu', padding='same')(inp)\n",
    "pool1 = MaxPool2D(pool_size=(2,2))(conv1)\n",
    "norm1 = BatchNormalization(axis = -1)(pool1)\n",
    "drop1 = Dropout(rate=0.2)(norm1)\n",
    "\n",
    "conv2 = Conv2D(32, kernel_size=(3,3), activation='relu', padding='same')(drop1)\n",
    "pool2 = MaxPool2D(pool_size=(2,2))(conv2)\n",
    "norm2 = BatchNormalization(axis = -1)(pool2)\n",
    "drop2 = Dropout(rate=0.2)(norm2)\n",
    "\n",
    "conv3 = Conv2D(32, kernel_size=(3,3), activation='relu', padding='same')(drop2)\n",
    "pool3 = MaxPool2D(pool_size=(2,2))(conv3)\n",
    "norm3 = BatchNormalization(axis = -1)(pool3)\n",
    "drop3 = Dropout(rate=0.2)(norm3)\n",
    "\n",
    "# hidden layer\n",
    "flat = Flatten()(drop3)\n",
    "\n",
    "hidden1 = Dense(512, activation=\"relu\")(flat)\n",
    "norm4 = BatchNormalization(axis = -1)(hidden1)\n",
    "drop4 = Dropout(rate=0.2)(norm4)\n",
    "\n",
    "hidden2 = Dense(512, activation=\"relu\")(drop4)\n",
    "norm5 = BatchNormalization(axis = -1)(hidden2)\n",
    "drop5 = Dropout(rate=0.2)(norm5)\n",
    "\n",
    "# output layer\n",
    "out = Dense(2, activation = 'sigmoid')(drop5)"
   ]
  },
  {
   "cell_type": "code",
   "execution_count": 31,
   "metadata": {},
   "outputs": [
    {
     "name": "stdout",
     "output_type": "stream",
     "text": [
      "Model: \"model_1\"\n",
      "_________________________________________________________________\n",
      " Layer (type)                Output Shape              Param #   \n",
      "=================================================================\n",
      " input_1 (InputLayer)        [(None, 70, 70, 3)]       0         \n",
      "                                                                 \n",
      " conv2d (Conv2D)             (None, 70, 70, 32)        896       \n",
      "                                                                 \n",
      " max_pooling2d (MaxPooling2  (None, 35, 35, 32)        0         \n",
      " D)                                                              \n",
      "                                                                 \n",
      " batch_normalization (Batch  (None, 35, 35, 32)        128       \n",
      " Normalization)                                                  \n",
      "                                                                 \n",
      " dropout (Dropout)           (None, 35, 35, 32)        0         \n",
      "                                                                 \n",
      " conv2d_1 (Conv2D)           (None, 35, 35, 32)        9248      \n",
      "                                                                 \n",
      " max_pooling2d_1 (MaxPoolin  (None, 17, 17, 32)        0         \n",
      " g2D)                                                            \n",
      "                                                                 \n",
      " batch_normalization_1 (Bat  (None, 17, 17, 32)        128       \n",
      " chNormalization)                                                \n",
      "                                                                 \n",
      " dropout_1 (Dropout)         (None, 17, 17, 32)        0         \n",
      "                                                                 \n",
      " conv2d_2 (Conv2D)           (None, 17, 17, 32)        9248      \n",
      "                                                                 \n",
      " max_pooling2d_2 (MaxPoolin  (None, 8, 8, 32)          0         \n",
      " g2D)                                                            \n",
      "                                                                 \n",
      " batch_normalization_2 (Bat  (None, 8, 8, 32)          128       \n",
      " chNormalization)                                                \n",
      "                                                                 \n",
      " dropout_2 (Dropout)         (None, 8, 8, 32)          0         \n",
      "                                                                 \n"
     ]
    },
    {
     "name": "stdout",
     "output_type": "stream",
     "text": [
      " flatten (Flatten)           (None, 2048)              0         \n",
      "                                                                 \n",
      " dense (Dense)               (None, 512)               1049088   \n",
      "                                                                 \n",
      " batch_normalization_3 (Bat  (None, 512)               2048      \n",
      " chNormalization)                                                \n",
      "                                                                 \n",
      " dropout_3 (Dropout)         (None, 512)               0         \n",
      "                                                                 \n",
      " dense_1 (Dense)             (None, 512)               262656    \n",
      "                                                                 \n",
      " batch_normalization_4 (Bat  (None, 512)               2048      \n",
      " chNormalization)                                                \n",
      "                                                                 \n",
      " dropout_4 (Dropout)         (None, 512)               0         \n",
      "                                                                 \n",
      " dense_2 (Dense)             (None, 2)                 1026      \n",
      "                                                                 \n",
      "=================================================================\n",
      "Total params: 1336642 (5.10 MB)\n",
      "Trainable params: 1334402 (5.09 MB)\n",
      "Non-trainable params: 2240 (8.75 KB)\n",
      "_________________________________________________________________\n",
      "None\n"
     ]
    }
   ],
   "source": [
    "model = k.Model(inputs = inp, outputs = out)\n",
    "\n",
    "model.compile(optimizer = Adam(learning_rate = 0.001), loss=\"categorical_crossentropy\", metrics=['accuracy'])\n",
    "\n",
    "print(model.summary())"
   ]
  },
  {
   "cell_type": "markdown",
   "metadata": {},
   "source": [
    "#### Model Performance"
   ]
  },
  {
   "cell_type": "code",
   "execution_count": 34,
   "metadata": {},
   "outputs": [
    {
     "name": "stdout",
     "output_type": "stream",
     "text": [
      "Epoch 1/10\n",
      "WARNING:tensorflow:From C:\\Users\\Subhadeep_Sarkar\\AppData\\Roaming\\Python\\Python311\\site-packages\\keras\\src\\utils\\tf_utils.py:492: The name tf.ragged.RaggedTensorValue is deprecated. Please use tf.compat.v1.ragged.RaggedTensorValue instead.\n",
      "\n",
      "WARNING:tensorflow:From C:\\Users\\Subhadeep_Sarkar\\AppData\\Roaming\\Python\\Python311\\site-packages\\keras\\src\\engine\\base_layer_utils.py:384: The name tf.executing_eagerly_outside_functions is deprecated. Please use tf.compat.v1.executing_eagerly_outside_functions instead.\n",
      "\n",
      "83/83 [==============================] - 14s 110ms/step - loss: 0.4362 - accuracy: 0.8291 - val_loss: 0.2944 - val_accuracy: 0.8554\n",
      "Epoch 2/10\n",
      "83/83 [==============================] - 11s 129ms/step - loss: 0.2909 - accuracy: 0.8788 - val_loss: 0.3109 - val_accuracy: 0.8904\n",
      "Epoch 3/10\n",
      "83/83 [==============================] - 8s 98ms/step - loss: 0.2264 - accuracy: 0.9047 - val_loss: 0.2912 - val_accuracy: 0.8995\n",
      "Epoch 4/10\n",
      "83/83 [==============================] - 8s 95ms/step - loss: 0.2053 - accuracy: 0.9150 - val_loss: 0.3548 - val_accuracy: 0.8965\n",
      "Epoch 5/10\n",
      "83/83 [==============================] - 8s 95ms/step - loss: 0.1772 - accuracy: 0.9268 - val_loss: 0.2999 - val_accuracy: 0.9041\n",
      "Epoch 6/10\n",
      "83/83 [==============================] - 8s 95ms/step - loss: 0.1438 - accuracy: 0.9404 - val_loss: 0.3026 - val_accuracy: 0.8995\n",
      "Epoch 7/10\n",
      "83/83 [==============================] - 8s 95ms/step - loss: 0.1247 - accuracy: 0.9513 - val_loss: 0.1916 - val_accuracy: 0.9437\n",
      "Epoch 8/10\n",
      "83/83 [==============================] - 8s 96ms/step - loss: 0.1112 - accuracy: 0.9536 - val_loss: 0.2083 - val_accuracy: 0.9178\n",
      "Epoch 9/10\n",
      "83/83 [==============================] - 8s 95ms/step - loss: 0.1079 - accuracy: 0.9610 - val_loss: 0.1649 - val_accuracy: 0.9528\n",
      "Epoch 10/10\n",
      "83/83 [==============================] - 8s 95ms/step - loss: 0.0803 - accuracy: 0.9713 - val_loss: 0.3239 - val_accuracy: 0.9087\n"
     ]
    },
    {
     "data": {
      "text/plain": [
       "<keras.src.callbacks.History at 0x1d61245e7d0>"
      ]
     },
     "execution_count": 34,
     "metadata": {},
     "output_type": "execute_result"
    }
   ],
   "source": [
    "model.fit(np.array(x_train), y_train, epochs = 10, batch_size = 64, verbose=1, validation_data=(np.array(x_val), y_val))"
   ]
  },
  {
   "cell_type": "code",
   "execution_count": 35,
   "metadata": {},
   "outputs": [
    {
     "name": "stdout",
     "output_type": "stream",
     "text": [
      "21/21 [==============================] - 1s 22ms/step - loss: 0.2753 - accuracy: 0.9254\n",
      "Accuracy 92.54185557365417\n"
     ]
    }
   ],
   "source": [
    "print(\"Accuracy\",model.evaluate(np.array(x_test), y_test)[1]*100)"
   ]
  },
  {
   "cell_type": "markdown",
   "metadata": {},
   "source": [
    "#### Model Save"
   ]
  },
  {
   "cell_type": "code",
   "execution_count": 37,
   "metadata": {},
   "outputs": [],
   "source": [
    "with open('mouth_state_classification_model.pkl','wb') as f:\n",
    "    pickle.dump(model, f)"
   ]
  }
 ],
 "metadata": {
  "kernelspec": {
   "display_name": "Python 3",
   "language": "python",
   "name": "python3"
  },
  "language_info": {
   "codemirror_mode": {
    "name": "ipython",
    "version": 3
   },
   "file_extension": ".py",
   "mimetype": "text/x-python",
   "name": "python",
   "nbconvert_exporter": "python",
   "pygments_lexer": "ipython3",
   "version": "3.11.3"
  }
 },
 "nbformat": 4,
 "nbformat_minor": 2
}
