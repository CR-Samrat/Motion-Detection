{
 "cells": [
  {
   "cell_type": "code",
   "execution_count": 1,
   "metadata": {},
   "outputs": [],
   "source": [
    "import cv2 as cv\n",
    "import numpy as np\n",
    "import pickle\n",
    "import os\n",
    "from IPython.display import clear_output\n",
    "from PIL import Image"
   ]
  },
  {
   "cell_type": "markdown",
   "metadata": {},
   "source": [
    "#### Loading cascade files"
   ]
  },
  {
   "cell_type": "code",
   "execution_count": 2,
   "metadata": {},
   "outputs": [],
   "source": [
    "face_classifier = cv.CascadeClassifier('./Cascade/haarcascade_frontalface_default.xml')\n",
    "lips_classifier = cv.CascadeClassifier('./Cascade/haarcascade_smile.xml')\n",
    "left_eye_classifier = cv.CascadeClassifier('./Cascade/haarcascade_lefteye_2splits.xml')\n",
    "right_eye_classifier = cv.CascadeClassifier('./Cascade/haarcascade_righteye_2splits.xml')"
   ]
  },
  {
   "cell_type": "markdown",
   "metadata": {},
   "source": [
    "#### Loading models"
   ]
  },
  {
   "cell_type": "code",
   "execution_count": 3,
   "metadata": {},
   "outputs": [],
   "source": [
    "def sigmoid_function(lst):\n",
    "    output = []\n",
    "    for i in lst:\n",
    "        if i[1] >= 0.5:\n",
    "            output.append(1)\n",
    "        else:\n",
    "            output.append(0)\n",
    "    return output"
   ]
  },
  {
   "cell_type": "code",
   "execution_count": 4,
   "metadata": {},
   "outputs": [
    {
     "name": "stdout",
     "output_type": "stream",
     "text": [
      "WARNING:tensorflow:From C:\\Users\\Subhadeep_Sarkar\\AppData\\Roaming\\Python\\Python311\\site-packages\\keras\\src\\losses.py:2976: The name tf.losses.sparse_softmax_cross_entropy is deprecated. Please use tf.compat.v1.losses.sparse_softmax_cross_entropy instead.\n",
      "\n",
      "WARNING:tensorflow:From C:\\Users\\Subhadeep_Sarkar\\AppData\\Roaming\\Python\\Python311\\site-packages\\keras\\src\\backend.py:1398: The name tf.executing_eagerly_outside_functions is deprecated. Please use tf.compat.v1.executing_eagerly_outside_functions instead.\n",
      "\n",
      "WARNING:tensorflow:From C:\\Users\\Subhadeep_Sarkar\\AppData\\Roaming\\Python\\Python311\\site-packages\\keras\\src\\layers\\pooling\\max_pooling2d.py:161: The name tf.nn.max_pool is deprecated. Please use tf.nn.max_pool2d instead.\n",
      "\n"
     ]
    }
   ],
   "source": [
    "with open('eye_state_classification_model.pkl','rb') as f:\n",
    "    eye_classifier_model = pickle.load(f)"
   ]
  },
  {
   "cell_type": "code",
   "execution_count": 5,
   "metadata": {},
   "outputs": [],
   "source": [
    "right_eye_img = cv.imread('./Dataset/Test_images/right_eye.png')\n",
    "right_eye_img = cv.resize(right_eye_img, (70,70))"
   ]
  },
  {
   "cell_type": "code",
   "execution_count": 6,
   "metadata": {},
   "outputs": [
    {
     "name": "stdout",
     "output_type": "stream",
     "text": [
      "1/1 [==============================] - 1s 851ms/step\n",
      "1\n"
     ]
    }
   ],
   "source": [
    "state = sigmoid_function(eye_classifier_model.predict(np.array([right_eye_img])))\n",
    "\n",
    "print(str(state[0]))"
   ]
  },
  {
   "cell_type": "markdown",
   "metadata": {},
   "source": [
    "#### starting video cam"
   ]
  },
  {
   "cell_type": "code",
   "execution_count": 16,
   "metadata": {},
   "outputs": [
    {
     "name": "stdout",
     "output_type": "stream",
     "text": [
      "1/1 [==============================] - 0s 56ms/step\n",
      "1/1 [==============================] - 0s 53ms/step\n"
     ]
    }
   ],
   "source": [
    "cam = cv.VideoCapture(0)\n",
    "left_state = \"Closed\"\n",
    "right_state = \"Closed\"\n",
    "img_idx = 1\n",
    "\n",
    "while True:\n",
    "    clear_output(wait=True)\n",
    "    _,img = cam.read()\n",
    "    img = cv.flip(img,1)\n",
    "\n",
    "    gray = cv.cvtColor(img, cv.COLOR_BGR2GRAY)\n",
    "\n",
    "    # face detection\n",
    "    try:\n",
    "        faces = face_classifier.detectMultiScale(gray, 1.1, 5)\n",
    "\n",
    "        for x,y,w,h in faces:\n",
    "            cv.putText(img, \"Face Detected \", (30,30),cv.FONT_HERSHEY_PLAIN, 2, (0,180,0), 2)\n",
    "            cv.rectangle(img, (x,y), (x+w, y+h), (0,180,0), 2)\n",
    "    except:\n",
    "        pass\n",
    "\n",
    "    # smile detection\n",
    "    # try:\n",
    "    #     lips = lips_classifier.detectMultiScale(gray, 1.1, 200)\n",
    "\n",
    "    #     for x,y,w,h in lips:\n",
    "    #         cv.rectangle(img, (x,y), (x+w, y+h), (0,180,0), 1)\n",
    "    # except:\n",
    "    #     pass\n",
    "\n",
    "    # left eye detection\n",
    "    try:\n",
    "        left_eyes = left_eye_classifier.detectMultiScale(gray, 1.1, 5)\n",
    "\n",
    "        for x,y,w,h in left_eyes:\n",
    "            cv.rectangle(img, (x,y), (x+w, y+h), (0,180,0), 1)\n",
    "            cv.putText(img, left_state, (30,60),cv.FONT_HERSHEY_PLAIN, 2, (0,180,0), 2)\n",
    "            left_eye_img = img[y:y+h, x:x+w]\n",
    "\n",
    "        left_eye_img = cv.resize(left_eye_img, (70,70))\n",
    "        state = sigmoid_function(eye_classifier_model.predict(np.array([left_eye_img])))\n",
    "        left_state = \"Left eye is open\" if state[0]==1 else \"Left eye is close\"\n",
    "    except Exception as e:\n",
    "        print(e)\n",
    "        pass\n",
    "\n",
    "    # right eye detection\n",
    "    try:\n",
    "        right_eyes = right_eye_classifier.detectMultiScale(gray, 1.1, 5)\n",
    "\n",
    "        for x,y,w,h in right_eyes:\n",
    "            cv.rectangle(img, (x,y), (x+w, y+h), (0,180,0), 1)\n",
    "            cv.putText(img, right_state, (30,90),cv.FONT_HERSHEY_PLAIN, 2, (0,180,0), 2)\n",
    "            right_eye_img = img[y:y+h, x:x+w]\n",
    "\n",
    "        right_eye_img = cv.resize(right_eye_img, (70,70))\n",
    "        state = sigmoid_function(eye_classifier_model.predict(np.array([right_eye_img])))\n",
    "        right_state = \"Right eye is open\" if state[0]==1 else \"Right eye is close\"\n",
    "    except:\n",
    "        pass\n",
    "\n",
    "    cv.imshow(\"Frame\",img)\n",
    "    cv.imshow('BW',gray)\n",
    "\n",
    "    if cv.waitKey(10) == ord('c'):\n",
    "        cv.imwrite(f'result{img_idx + 1}.png',img)\n",
    "        img_idx += 1\n",
    "\n",
    "    if cv.waitKey(10) == 27:\n",
    "        break\n",
    "\n",
    "cam.release()\n",
    "cv.destroyAllWindows()"
   ]
  },
  {
   "cell_type": "code",
   "execution_count": null,
   "metadata": {},
   "outputs": [],
   "source": []
  }
 ],
 "metadata": {
  "kernelspec": {
   "display_name": "Python 3",
   "language": "python",
   "name": "python3"
  },
  "language_info": {
   "codemirror_mode": {
    "name": "ipython",
    "version": 3
   },
   "file_extension": ".py",
   "mimetype": "text/x-python",
   "name": "python",
   "nbconvert_exporter": "python",
   "pygments_lexer": "ipython3",
   "version": "3.11.3"
  }
 },
 "nbformat": 4,
 "nbformat_minor": 2
}
